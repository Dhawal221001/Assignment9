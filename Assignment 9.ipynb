{
 "cells": [
  {
   "cell_type": "markdown",
   "id": "3c05d70e-5aa8-4126-8eee-8fbc279be542",
   "metadata": {},
   "source": [
    "## Q1, Create a vehicle class with an init method having instance variables as name_of_vehicle, max_speed and average_of_vehicle."
   ]
  },
  {
   "cell_type": "code",
   "execution_count": 1,
   "id": "db3eaf99-93da-4164-be63-eeaacbfbbaf3",
   "metadata": {},
   "outputs": [],
   "source": [
    "class vechile:\n",
    "    def __init__(self,name_of_vechile,max_speed,avg_of_vechile):\n",
    "        self.name_of_vechile=name_of_vechile\n",
    "        self.max_speed=max_speed\n",
    "        self.avg_of_vechile=avg_of_vechile"
   ]
  },
  {
   "cell_type": "code",
   "execution_count": 27,
   "id": "70f2755d-145c-4075-9cea-53e8cf146222",
   "metadata": {},
   "outputs": [],
   "source": [
    "car=vechile(\"Thar\",150,9.5)"
   ]
  },
  {
   "cell_type": "code",
   "execution_count": 28,
   "id": "b463c907-2471-4395-aafc-55b6719c1d94",
   "metadata": {},
   "outputs": [
    {
     "data": {
      "text/plain": [
       "150"
      ]
     },
     "execution_count": 28,
     "metadata": {},
     "output_type": "execute_result"
    }
   ],
   "source": [
    "car.max_speed"
   ]
  },
  {
   "cell_type": "code",
   "execution_count": 29,
   "id": "4ac51863-e316-4fd8-bc2a-ed36999fbba0",
   "metadata": {},
   "outputs": [
    {
     "data": {
      "text/plain": [
       "9.5"
      ]
     },
     "execution_count": 29,
     "metadata": {},
     "output_type": "execute_result"
    }
   ],
   "source": [
    "car.avg_of_vechile"
   ]
  },
  {
   "cell_type": "code",
   "execution_count": 30,
   "id": "499cb1d5-c9a6-4f17-b0f3-af09f8945660",
   "metadata": {},
   "outputs": [
    {
     "data": {
      "text/plain": [
       "'Thar'"
      ]
     },
     "execution_count": 30,
     "metadata": {},
     "output_type": "execute_result"
    }
   ],
   "source": [
    "car.name_of_vechile"
   ]
  },
  {
   "cell_type": "markdown",
   "id": "5c7fd4ea-e97c-4ec4-83cb-f6b6dc5a7dc7",
   "metadata": {},
   "source": [
    "## Q2. Create a child class car from the vehicle class created in Que 1, which will inherit the vehicle class. Create a method named seating_capacity which takes capacity as an argument and returns the name of the vehicle and its seating capacity."
   ]
  },
  {
   "cell_type": "code",
   "execution_count": 15,
   "id": "4978da0c-6975-480d-a93b-079f40ed2410",
   "metadata": {},
   "outputs": [],
   "source": [
    "class car(vechile):\n",
    "    def seating_capacity(self,capacity):\n",
    "        self.capacity=capacity\n",
    "        return f\"{self.capacity} and {self.name_of_vechile}\"\n",
    "        "
   ]
  },
  {
   "cell_type": "code",
   "execution_count": 16,
   "id": "0797cc2b-b0b2-4733-afd1-d4f762621ec3",
   "metadata": {},
   "outputs": [],
   "source": [
    "my_car=car(\"s class\",220,9.5)"
   ]
  },
  {
   "cell_type": "code",
   "execution_count": 17,
   "id": "9ab4dce6-7467-4b86-9922-bf5ab2ed5fdb",
   "metadata": {},
   "outputs": [
    {
     "data": {
      "text/plain": [
       "'4 and s class'"
      ]
     },
     "execution_count": 17,
     "metadata": {},
     "output_type": "execute_result"
    }
   ],
   "source": [
    "my_car.seating_capacity(4)"
   ]
  },
  {
   "cell_type": "markdown",
   "id": "b63dd163-c103-4011-8d45-91381d62aa3f",
   "metadata": {},
   "source": [
    "## Q3. What is multiple inheritance? Write a python code to demonstrate multiple inheritance."
   ]
  },
  {
   "cell_type": "markdown",
   "id": "ad06acfb-073f-4853-8b18-b6d040eeacca",
   "metadata": {},
   "source": [
    "### Inheritance in which child class inherit from more than one parent class, than it is know as Multiple inheritance."
   ]
  },
  {
   "cell_type": "code",
   "execution_count": 18,
   "id": "d9b9be5f-c462-4a20-b3a1-efd98921a99e",
   "metadata": {},
   "outputs": [],
   "source": [
    "class cl1:\n",
    "    def test_cl1(self):\n",
    "        print(\"this is class1 \")"
   ]
  },
  {
   "cell_type": "code",
   "execution_count": 19,
   "id": "638c9b82-20e7-452b-8fd4-088475a7f46f",
   "metadata": {},
   "outputs": [],
   "source": [
    "class cl2:\n",
    "    def test_cl2(self):\n",
    "        print(\"this is class2\")"
   ]
  },
  {
   "cell_type": "code",
   "execution_count": 20,
   "id": "ff2b1747-83b1-48a8-ad2b-e97fb8eb5881",
   "metadata": {},
   "outputs": [],
   "source": [
    "class cl3(cl1,cl2):\n",
    "    def test_cl3(self):\n",
    "        print(\"this is class3\")"
   ]
  },
  {
   "cell_type": "code",
   "execution_count": 21,
   "id": "37039177-78ee-4d0c-a439-220b7c383256",
   "metadata": {},
   "outputs": [],
   "source": [
    "obj_cl3=cl3()"
   ]
  },
  {
   "cell_type": "code",
   "execution_count": 22,
   "id": "312fa618-1b6f-4eb9-aece-cb8dd5b1bff3",
   "metadata": {},
   "outputs": [
    {
     "name": "stdout",
     "output_type": "stream",
     "text": [
      "this is class2\n"
     ]
    }
   ],
   "source": [
    "obj_cl3.test_cl2()"
   ]
  },
  {
   "cell_type": "code",
   "execution_count": 23,
   "id": "8a0636bc-9217-4dca-89c7-04ad105c0148",
   "metadata": {},
   "outputs": [
    {
     "name": "stdout",
     "output_type": "stream",
     "text": [
      "this is class1 \n"
     ]
    }
   ],
   "source": [
    "obj_cl3.test_cl1()"
   ]
  },
  {
   "cell_type": "markdown",
   "id": "260d775a-e11e-42f6-996c-5419a077ca7f",
   "metadata": {},
   "source": [
    "## Q4. What are getter and setter in python? Create a class and create a getter and a setter method in this class."
   ]
  },
  {
   "cell_type": "markdown",
   "id": "f15df9d1-8d5f-4dd1-ab78-5473fd13917b",
   "metadata": {},
   "source": [
    "### Getter is a method that allows you to access an private or public attributes given in a class.\n",
    "### Setter is a method that allows you to set or modify the value of an attribute in a class."
   ]
  },
  {
   "cell_type": "code",
   "execution_count": 41,
   "id": "e528a7d4-a385-4b6d-b723-0f27c0eee8f5",
   "metadata": {},
   "outputs": [],
   "source": [
    "class graduation_year:\n",
    "    def __init__(self,year=22):\n",
    "        self.__year=year\n",
    "        \n",
    "    @property         ##Getter    \n",
    "    def which_year(self):\n",
    "        return self.__year\n",
    "    \n",
    "    @which_year.setter\n",
    "    def set_year(self,Year):\n",
    "        self.__year=Year\n",
    "        \n",
    "        "
   ]
  },
  {
   "cell_type": "code",
   "execution_count": 42,
   "id": "29e1b877-48c2-4193-a950-11e9088556a1",
   "metadata": {},
   "outputs": [],
   "source": [
    "grad_obj=graduation_year()"
   ]
  },
  {
   "cell_type": "code",
   "execution_count": 43,
   "id": "d2392497-5a8a-4e84-8c91-1d274b0d49ab",
   "metadata": {},
   "outputs": [
    {
     "data": {
      "text/plain": [
       "22"
      ]
     },
     "execution_count": 43,
     "metadata": {},
     "output_type": "execute_result"
    }
   ],
   "source": [
    "grad_obj.which_year"
   ]
  },
  {
   "cell_type": "code",
   "execution_count": 44,
   "id": "84992f83-2d5b-40c8-81b2-2232ffa58e6c",
   "metadata": {},
   "outputs": [],
   "source": [
    "grad_obj.set_year=2018"
   ]
  },
  {
   "cell_type": "code",
   "execution_count": 45,
   "id": "e33ce593-29fa-4ef5-9bc3-e0bd567347ac",
   "metadata": {},
   "outputs": [
    {
     "data": {
      "text/plain": [
       "2018"
      ]
     },
     "execution_count": 45,
     "metadata": {},
     "output_type": "execute_result"
    }
   ],
   "source": [
    "grad_obj.which_year"
   ]
  },
  {
   "cell_type": "markdown",
   "id": "61dc78da-55b3-45b9-91fe-8fe0230cd345",
   "metadata": {},
   "source": [
    "## Q5.What is method overriding in python? Write a python code to demonstrate method overriding."
   ]
  },
  {
   "cell_type": "markdown",
   "id": "599e3769-12ba-486e-878d-855f8d15f098",
   "metadata": {},
   "source": [
    "### Method overriding is when you have two methods with the same name that each perform different tasks.\n",
    " ### In other words, when a child class method overrides(or, provides it's own implementation) the parent class method of the same name, parameters and return type, it is known as method overriding."
   ]
  },
  {
   "cell_type": "code",
   "execution_count": 46,
   "id": "aa187a6c-7433-43d6-b86f-36d280bbfacd",
   "metadata": {},
   "outputs": [
    {
     "name": "stdout",
     "output_type": "stream",
     "text": [
      "The method Walk here is overridden in the code\n",
      "Hello, I am the child class\n",
      "Hello, I am the parent class\n"
     ]
    }
   ],
   "source": [
    "class Animal:\n",
    "    def Walk(self):\n",
    "        print('Hello, I am the parent class')\n",
    "\n",
    "class Dog(Animal):\n",
    "    def Walk(self):\n",
    "        print('Hello, I am the child class')\n",
    "        \n",
    "print('The method Walk here is overridden in the code')\n"
   ]
  },
  {
   "cell_type": "code",
   "execution_count": null,
   "id": "5e084115-c4a7-41af-982f-c22a265732fe",
   "metadata": {},
   "outputs": [],
   "source": [
    "r = Dog()\n",
    "r.Walk()\n",
    "\n",
    "\n"
   ]
  },
  {
   "cell_type": "code",
   "execution_count": null,
   "id": "ee15db1f-fc56-4710-8615-d4e6dc74efc2",
   "metadata": {},
   "outputs": [],
   "source": []
  }
 ],
 "metadata": {
  "kernelspec": {
   "display_name": "Python 3 (ipykernel)",
   "language": "python",
   "name": "python3"
  },
  "language_info": {
   "codemirror_mode": {
    "name": "ipython",
    "version": 3
   },
   "file_extension": ".py",
   "mimetype": "text/x-python",
   "name": "python",
   "nbconvert_exporter": "python",
   "pygments_lexer": "ipython3",
   "version": "3.10.8"
  }
 },
 "nbformat": 4,
 "nbformat_minor": 5
}
